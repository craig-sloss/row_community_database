{
 "cells": [
  {
   "cell_type": "markdown",
   "id": "c0e7f0bd-6e2e-4432-bd64-b5e8b3bb9cc1",
   "metadata": {},
   "source": [
    "# Automated Address Lookup and Geocoding\n",
    "\n"
   ]
  },
  {
   "cell_type": "code",
   "execution_count": 11,
   "id": "3d165b8d-b673-4d84-98bd-d9c028af7668",
   "metadata": {
    "tags": []
   },
   "outputs": [
    {
     "name": "stdout",
     "output_type": "stream",
     "text": [
      "Requirement already satisfied: geopandas in /opt/conda/lib/python3.10/site-packages (1.0.1)\n",
      "Requirement already satisfied: numpy>=1.22 in /opt/conda/lib/python3.10/site-packages (from geopandas) (1.26.4)\n",
      "Requirement already satisfied: pyogrio>=0.7.2 in /opt/conda/lib/python3.10/site-packages (from geopandas) (0.9.0)\n",
      "Requirement already satisfied: packaging in /opt/conda/lib/python3.10/site-packages (from geopandas) (24.1)\n",
      "Requirement already satisfied: pandas>=1.4.0 in /opt/conda/lib/python3.10/site-packages (from geopandas) (2.2.2)\n",
      "Requirement already satisfied: pyproj>=3.3.0 in /opt/conda/lib/python3.10/site-packages (from geopandas) (3.6.1)\n",
      "Requirement already satisfied: shapely>=2.0.0 in /opt/conda/lib/python3.10/site-packages (from geopandas) (2.0.4)\n",
      "Requirement already satisfied: python-dateutil>=2.8.2 in /opt/conda/lib/python3.10/site-packages (from pandas>=1.4.0->geopandas) (2.9.0)\n",
      "Requirement already satisfied: pytz>=2020.1 in /opt/conda/lib/python3.10/site-packages (from pandas>=1.4.0->geopandas) (2024.1)\n",
      "Requirement already satisfied: tzdata>=2022.7 in /opt/conda/lib/python3.10/site-packages (from pandas>=1.4.0->geopandas) (2024.1)\n",
      "Requirement already satisfied: certifi in /opt/conda/lib/python3.10/site-packages (from pyogrio>=0.7.2->geopandas) (2024.7.4)\n",
      "Requirement already satisfied: six>=1.5 in /opt/conda/lib/python3.10/site-packages (from python-dateutil>=2.8.2->pandas>=1.4.0->geopandas) (1.16.0)\n",
      "Requirement already satisfied: fiona in /opt/conda/lib/python3.10/site-packages (1.9.6)\n",
      "Requirement already satisfied: attrs>=19.2.0 in /opt/conda/lib/python3.10/site-packages (from fiona) (23.2.0)\n",
      "Requirement already satisfied: certifi in /opt/conda/lib/python3.10/site-packages (from fiona) (2024.7.4)\n",
      "Requirement already satisfied: click~=8.0 in /opt/conda/lib/python3.10/site-packages (from fiona) (8.1.7)\n",
      "Requirement already satisfied: click-plugins>=1.0 in /opt/conda/lib/python3.10/site-packages (from fiona) (1.1.1)\n",
      "Requirement already satisfied: cligj>=0.5 in /opt/conda/lib/python3.10/site-packages (from fiona) (0.7.2)\n",
      "Requirement already satisfied: six in /opt/conda/lib/python3.10/site-packages (from fiona) (1.16.0)\n"
     ]
    }
   ],
   "source": [
    "#! pip install --upgrade google-maps-places\n",
    "#! pip install --upgrade geopandas\n",
    "#! pip install --upgrade fiona"
   ]
  },
  {
   "cell_type": "code",
   "execution_count": 3,
   "id": "134b654b-1c38-420e-b2cb-1b388ddb7132",
   "metadata": {
    "tags": []
   },
   "outputs": [],
   "source": [
    "from google.maps import places_v1\n",
    "import pandas as pd"
   ]
  },
  {
   "cell_type": "code",
   "execution_count": 4,
   "id": "512de03e-2a43-4d87-910b-c11178aa57bb",
   "metadata": {
    "tags": []
   },
   "outputs": [],
   "source": [
    "client = places_v1.PlacesClient()\n",
    "organizations = [\"Circa 1877\", \"Jane Bond\", \"Princess Cafe\", \"AOK Arcade Bar\", \"Full Circle Foods\"]"
   ]
  },
  {
   "cell_type": "code",
   "execution_count": 7,
   "id": "b63c652f-657d-4715-9709-b3e99dea5007",
   "metadata": {
    "tags": []
   },
   "outputs": [
    {
     "data": {
      "text/html": [
       "<div>\n",
       "<style scoped>\n",
       "    .dataframe tbody tr th:only-of-type {\n",
       "        vertical-align: middle;\n",
       "    }\n",
       "\n",
       "    .dataframe tbody tr th {\n",
       "        vertical-align: top;\n",
       "    }\n",
       "\n",
       "    .dataframe thead th {\n",
       "        text-align: right;\n",
       "    }\n",
       "</style>\n",
       "<table border=\"1\" class=\"dataframe\">\n",
       "  <thead>\n",
       "    <tr style=\"text-align: right;\">\n",
       "      <th></th>\n",
       "      <th>org</th>\n",
       "      <th>address</th>\n",
       "      <th>longitude</th>\n",
       "      <th>latitude</th>\n",
       "      <th>types</th>\n",
       "      <th>formatted_name</th>\n",
       "      <th>primary_type</th>\n",
       "      <th>phone</th>\n",
       "    </tr>\n",
       "  </thead>\n",
       "  <tbody>\n",
       "    <tr>\n",
       "      <th>0</th>\n",
       "      <td>Circa 1877</td>\n",
       "      <td>181 King St S, Waterloo, ON N2J 0E7, Canada</td>\n",
       "      <td>-80.520197</td>\n",
       "      <td>43.460381</td>\n",
       "      <td>[point_of_interest, establishment]</td>\n",
       "      <td>text: \"Circa1877\"\\nlanguage_code: \"en\"\\n</td>\n",
       "      <td></td>\n",
       "      <td></td>\n",
       "    </tr>\n",
       "    <tr>\n",
       "      <th>1</th>\n",
       "      <td>Jane Bond</td>\n",
       "      <td>5 Princess St W, Waterloo, ON N2L 2X7, Canada</td>\n",
       "      <td>-80.523333</td>\n",
       "      <td>43.466634</td>\n",
       "      <td>[vegetarian_restaurant, bar, restaurant, food,...</td>\n",
       "      <td>text: \"Jane Bond\"\\nlanguage_code: \"en\"\\n</td>\n",
       "      <td>vegetarian_restaurant</td>\n",
       "      <td>(519) 886-1689</td>\n",
       "    </tr>\n",
       "    <tr>\n",
       "      <th>2</th>\n",
       "      <td>Princess Cafe</td>\n",
       "      <td>46 King St N, Waterloo, ON N2J 2W8, Canada</td>\n",
       "      <td>-80.522579</td>\n",
       "      <td>43.466499</td>\n",
       "      <td>[cafe, coffee_shop, store, restaurant, food, p...</td>\n",
       "      <td>text: \"Princess Cafe\"\\nlanguage_code: \"en\"\\n</td>\n",
       "      <td>cafe</td>\n",
       "      <td>(519) 886-0227</td>\n",
       "    </tr>\n",
       "    <tr>\n",
       "      <th>3</th>\n",
       "      <td>AOK Arcade Bar</td>\n",
       "      <td>165 King St W Unit B03, Kitchener, ON N2G 1A7,...</td>\n",
       "      <td>-80.492287</td>\n",
       "      <td>43.450546</td>\n",
       "      <td>[bar, point_of_interest, establishment]</td>\n",
       "      <td>text: \"AOK Craft Beer + Arcade\"\\nlanguage_code...</td>\n",
       "      <td>bar</td>\n",
       "      <td></td>\n",
       "    </tr>\n",
       "    <tr>\n",
       "      <th>4</th>\n",
       "      <td>Full Circle Foods</td>\n",
       "      <td>16 King St E, Kitchener, ON N2G 2K6, Canada</td>\n",
       "      <td>-80.488748</td>\n",
       "      <td>43.449815</td>\n",
       "      <td>[grocery_store, store, food, point_of_interest...</td>\n",
       "      <td>text: \"Full Circle Foods\"\\nlanguage_code: \"en\"\\n</td>\n",
       "      <td>grocery_store</td>\n",
       "      <td>(519) 744-5331</td>\n",
       "    </tr>\n",
       "  </tbody>\n",
       "</table>\n",
       "</div>"
      ],
      "text/plain": [
       "                 org                                            address  \\\n",
       "0         Circa 1877        181 King St S, Waterloo, ON N2J 0E7, Canada   \n",
       "1          Jane Bond      5 Princess St W, Waterloo, ON N2L 2X7, Canada   \n",
       "2      Princess Cafe         46 King St N, Waterloo, ON N2J 2W8, Canada   \n",
       "3     AOK Arcade Bar  165 King St W Unit B03, Kitchener, ON N2G 1A7,...   \n",
       "4  Full Circle Foods        16 King St E, Kitchener, ON N2G 2K6, Canada   \n",
       "\n",
       "   longitude   latitude                                              types  \\\n",
       "0 -80.520197  43.460381                 [point_of_interest, establishment]   \n",
       "1 -80.523333  43.466634  [vegetarian_restaurant, bar, restaurant, food,...   \n",
       "2 -80.522579  43.466499  [cafe, coffee_shop, store, restaurant, food, p...   \n",
       "3 -80.492287  43.450546            [bar, point_of_interest, establishment]   \n",
       "4 -80.488748  43.449815  [grocery_store, store, food, point_of_interest...   \n",
       "\n",
       "                                      formatted_name           primary_type  \\\n",
       "0           text: \"Circa1877\"\\nlanguage_code: \"en\"\\n                          \n",
       "1           text: \"Jane Bond\"\\nlanguage_code: \"en\"\\n  vegetarian_restaurant   \n",
       "2       text: \"Princess Cafe\"\\nlanguage_code: \"en\"\\n                   cafe   \n",
       "3  text: \"AOK Craft Beer + Arcade\"\\nlanguage_code...                    bar   \n",
       "4   text: \"Full Circle Foods\"\\nlanguage_code: \"en\"\\n          grocery_store   \n",
       "\n",
       "            phone  \n",
       "0                  \n",
       "1  (519) 886-1689  \n",
       "2  (519) 886-0227  \n",
       "3                  \n",
       "4  (519) 744-5331  "
      ]
     },
     "execution_count": 7,
     "metadata": {},
     "output_type": "execute_result"
    }
   ],
   "source": [
    "addresses = []\n",
    "latitudes = []\n",
    "longitudes = []\n",
    "types = []\n",
    "display_names = []\n",
    "primary_types = []\n",
    "phone_numbers = []\n",
    "for organization in organizations:\n",
    "    request = places_v1.SearchTextRequest(\n",
    "        text_query = organization + \"Region of Waterloo\",\n",
    "    )\n",
    "    response = client.search_text(request=request, \n",
    "                                  metadata=[(\"x-goog-fieldmask\", \n",
    "                                             \"places.displayName,places.formattedAddress,places.location,places.types,places.displayName,places.primaryType,places.nationalPhoneNumber\")])\n",
    "    addresses.append(response.places[0].formatted_address)\n",
    "    longitudes.append(response.places[0].location.longitude)\n",
    "    latitudes.append(response.places[0].location.latitude)\n",
    "    types.append(response.places[0].types)\n",
    "    display_names.append(response.places[0].display_name)\n",
    "    primary_types.append(response.places[0].primary_type)\n",
    "    phone_numbers.append(response.places[0].national_phone_number)\n",
    "location_data = pd.DataFrame.from_dict({'org' : organizations,\n",
    "                                        'address' : addresses,\n",
    "                                        'longitude' : longitudes,\n",
    "                                        'latitude' : latitudes,\n",
    "                                        'types' : types,\n",
    "                                        'formatted_name' : display_names,\n",
    "                                        'primary_type' : primary_types,\n",
    "                                        'phone' : phone_numbers\n",
    "                                       })\n",
    "location_data"
   ]
  },
  {
   "cell_type": "code",
   "execution_count": 8,
   "id": "158236b5-ca9d-4ecc-ab8f-eef8371c24b8",
   "metadata": {
    "tags": []
   },
   "outputs": [],
   "source": [
    "location_data.to_csv('output_data/craigs_favourite_places.csv', index = False)"
   ]
  },
  {
   "cell_type": "markdown",
   "id": "138e7a4f-6649-4ff8-826b-06cd8f574e72",
   "metadata": {},
   "source": [
    "# Convert to Shapefile\n"
   ]
  },
  {
   "cell_type": "code",
   "execution_count": 1,
   "id": "9518454f-71e3-4db4-982b-04b85156c411",
   "metadata": {
    "tags": []
   },
   "outputs": [],
   "source": [
    "import geopandas as gpd\n",
    "from shapely.geometry import Point"
   ]
  },
  {
   "cell_type": "code",
   "execution_count": 11,
   "id": "09061f2c-5ace-4297-8377-aaa76cacaf45",
   "metadata": {
    "tags": []
   },
   "outputs": [],
   "source": [
    "location_data['geometry'] = location_data.apply(lambda x: Point((float(x.longitude), float(x.latitude))), axis=1)\n",
    "shapefile = gpd.GeoDataFrame(location_data[[\"org\", \"address\", \"phone\", \"geometry\"]], geometry='geometry')\n",
    "shapefile.to_file(\"./output_data/craigs_favourite_places.shp\", \n",
    "                  driver='ESRI Shapefile', \n",
    "                  engine = \"fiona\", \n",
    "                  crs = \"+proj=longlat +datum=WGS84\")"
   ]
  }
 ],
 "metadata": {
  "environment": {
   "kernel": "conda-base-py",
   "name": "workbench-notebooks.m123",
   "type": "gcloud",
   "uri": "us-docker.pkg.dev/deeplearning-platform-release/gcr.io/workbench-notebooks:m123"
  },
  "kernelspec": {
   "display_name": "Python 3 (ipykernel)",
   "language": "python",
   "name": "conda-base-py"
  },
  "language_info": {
   "codemirror_mode": {
    "name": "ipython",
    "version": 3
   },
   "file_extension": ".py",
   "mimetype": "text/x-python",
   "name": "python",
   "nbconvert_exporter": "python",
   "pygments_lexer": "ipython3",
   "version": "3.10.14"
  }
 },
 "nbformat": 4,
 "nbformat_minor": 5
}
