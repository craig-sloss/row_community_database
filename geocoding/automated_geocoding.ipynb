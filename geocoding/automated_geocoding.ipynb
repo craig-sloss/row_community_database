{
 "cells": [
  {
   "cell_type": "markdown",
   "id": "c0e7f0bd-6e2e-4432-bd64-b5e8b3bb9cc1",
   "metadata": {},
   "source": [
    "# Automated Address Lookup and Geocoding\n",
    "\n"
   ]
  },
  {
   "cell_type": "code",
   "execution_count": 1,
   "id": "3d165b8d-b673-4d84-98bd-d9c028af7668",
   "metadata": {
    "tags": []
   },
   "outputs": [
    {
     "name": "stdout",
     "output_type": "stream",
     "text": [
      "Collecting google-maps-places\n",
      "  Downloading google_maps_places-0.1.17-py3-none-any.whl.metadata (5.2 kB)\n",
      "Requirement already satisfied: google-api-core!=2.0.*,!=2.1.*,!=2.10.*,!=2.2.*,!=2.3.*,!=2.4.*,!=2.5.*,!=2.6.*,!=2.7.*,!=2.8.*,!=2.9.*,<3.0.0dev,>=1.34.1 in /opt/conda/lib/python3.10/site-packages (from google-api-core[grpc]!=2.0.*,!=2.1.*,!=2.10.*,!=2.2.*,!=2.3.*,!=2.4.*,!=2.5.*,!=2.6.*,!=2.7.*,!=2.8.*,!=2.9.*,<3.0.0dev,>=1.34.1->google-maps-places) (1.34.1)\n",
      "Requirement already satisfied: google-auth!=2.24.0,!=2.25.0,<3.0.0dev,>=2.14.1 in /opt/conda/lib/python3.10/site-packages (from google-maps-places) (2.32.0)\n",
      "Requirement already satisfied: proto-plus<2.0.0dev,>=1.22.3 in /opt/conda/lib/python3.10/site-packages (from google-maps-places) (1.24.0)\n",
      "Requirement already satisfied: protobuf!=4.21.0,!=4.21.1,!=4.21.2,!=4.21.3,!=4.21.4,!=4.21.5,<6.0.0dev,>=3.20.2 in /opt/conda/lib/python3.10/site-packages (from google-maps-places) (3.20.3)\n",
      "Collecting google-geo-type<1.0.0dev,>=0.1.0 (from google-maps-places)\n",
      "  Downloading google_geo_type-0.3.9-py3-none-any.whl.metadata (5.0 kB)\n",
      "Requirement already satisfied: googleapis-common-protos<2.0dev,>=1.56.2 in /opt/conda/lib/python3.10/site-packages (from google-api-core!=2.0.*,!=2.1.*,!=2.10.*,!=2.2.*,!=2.3.*,!=2.4.*,!=2.5.*,!=2.6.*,!=2.7.*,!=2.8.*,!=2.9.*,<3.0.0dev,>=1.34.1->google-api-core[grpc]!=2.0.*,!=2.1.*,!=2.10.*,!=2.2.*,!=2.3.*,!=2.4.*,!=2.5.*,!=2.6.*,!=2.7.*,!=2.8.*,!=2.9.*,<3.0.0dev,>=1.34.1->google-maps-places) (1.63.2)\n",
      "Requirement already satisfied: requests<3.0.0dev,>=2.18.0 in /opt/conda/lib/python3.10/site-packages (from google-api-core!=2.0.*,!=2.1.*,!=2.10.*,!=2.2.*,!=2.3.*,!=2.4.*,!=2.5.*,!=2.6.*,!=2.7.*,!=2.8.*,!=2.9.*,<3.0.0dev,>=1.34.1->google-api-core[grpc]!=2.0.*,!=2.1.*,!=2.10.*,!=2.2.*,!=2.3.*,!=2.4.*,!=2.5.*,!=2.6.*,!=2.7.*,!=2.8.*,!=2.9.*,<3.0.0dev,>=1.34.1->google-maps-places) (2.32.3)\n",
      "Requirement already satisfied: grpcio<2.0dev,>=1.33.2 in /opt/conda/lib/python3.10/site-packages (from google-api-core[grpc]!=2.0.*,!=2.1.*,!=2.10.*,!=2.2.*,!=2.3.*,!=2.4.*,!=2.5.*,!=2.6.*,!=2.7.*,!=2.8.*,!=2.9.*,<3.0.0dev,>=1.34.1->google-maps-places) (1.64.1)\n",
      "Requirement already satisfied: grpcio-status<2.0dev,>=1.33.2 in /opt/conda/lib/python3.10/site-packages (from google-api-core[grpc]!=2.0.*,!=2.1.*,!=2.10.*,!=2.2.*,!=2.3.*,!=2.4.*,!=2.5.*,!=2.6.*,!=2.7.*,!=2.8.*,!=2.9.*,<3.0.0dev,>=1.34.1->google-maps-places) (1.48.2)\n",
      "Requirement already satisfied: cachetools<6.0,>=2.0.0 in /opt/conda/lib/python3.10/site-packages (from google-auth!=2.24.0,!=2.25.0,<3.0.0dev,>=2.14.1->google-maps-places) (5.3.3)\n",
      "Requirement already satisfied: pyasn1-modules>=0.2.1 in /opt/conda/lib/python3.10/site-packages (from google-auth!=2.24.0,!=2.25.0,<3.0.0dev,>=2.14.1->google-maps-places) (0.4.0)\n",
      "Requirement already satisfied: rsa<5,>=3.1.4 in /opt/conda/lib/python3.10/site-packages (from google-auth!=2.24.0,!=2.25.0,<3.0.0dev,>=2.14.1->google-maps-places) (4.9)\n",
      "Requirement already satisfied: pyasn1<0.7.0,>=0.4.6 in /opt/conda/lib/python3.10/site-packages (from pyasn1-modules>=0.2.1->google-auth!=2.24.0,!=2.25.0,<3.0.0dev,>=2.14.1->google-maps-places) (0.6.0)\n",
      "Requirement already satisfied: charset-normalizer<4,>=2 in /opt/conda/lib/python3.10/site-packages (from requests<3.0.0dev,>=2.18.0->google-api-core!=2.0.*,!=2.1.*,!=2.10.*,!=2.2.*,!=2.3.*,!=2.4.*,!=2.5.*,!=2.6.*,!=2.7.*,!=2.8.*,!=2.9.*,<3.0.0dev,>=1.34.1->google-api-core[grpc]!=2.0.*,!=2.1.*,!=2.10.*,!=2.2.*,!=2.3.*,!=2.4.*,!=2.5.*,!=2.6.*,!=2.7.*,!=2.8.*,!=2.9.*,<3.0.0dev,>=1.34.1->google-maps-places) (3.3.2)\n",
      "Requirement already satisfied: idna<4,>=2.5 in /opt/conda/lib/python3.10/site-packages (from requests<3.0.0dev,>=2.18.0->google-api-core!=2.0.*,!=2.1.*,!=2.10.*,!=2.2.*,!=2.3.*,!=2.4.*,!=2.5.*,!=2.6.*,!=2.7.*,!=2.8.*,!=2.9.*,<3.0.0dev,>=1.34.1->google-api-core[grpc]!=2.0.*,!=2.1.*,!=2.10.*,!=2.2.*,!=2.3.*,!=2.4.*,!=2.5.*,!=2.6.*,!=2.7.*,!=2.8.*,!=2.9.*,<3.0.0dev,>=1.34.1->google-maps-places) (3.7)\n",
      "Requirement already satisfied: urllib3<3,>=1.21.1 in /opt/conda/lib/python3.10/site-packages (from requests<3.0.0dev,>=2.18.0->google-api-core!=2.0.*,!=2.1.*,!=2.10.*,!=2.2.*,!=2.3.*,!=2.4.*,!=2.5.*,!=2.6.*,!=2.7.*,!=2.8.*,!=2.9.*,<3.0.0dev,>=1.34.1->google-api-core[grpc]!=2.0.*,!=2.1.*,!=2.10.*,!=2.2.*,!=2.3.*,!=2.4.*,!=2.5.*,!=2.6.*,!=2.7.*,!=2.8.*,!=2.9.*,<3.0.0dev,>=1.34.1->google-maps-places) (1.26.19)\n",
      "Requirement already satisfied: certifi>=2017.4.17 in /opt/conda/lib/python3.10/site-packages (from requests<3.0.0dev,>=2.18.0->google-api-core!=2.0.*,!=2.1.*,!=2.10.*,!=2.2.*,!=2.3.*,!=2.4.*,!=2.5.*,!=2.6.*,!=2.7.*,!=2.8.*,!=2.9.*,<3.0.0dev,>=1.34.1->google-api-core[grpc]!=2.0.*,!=2.1.*,!=2.10.*,!=2.2.*,!=2.3.*,!=2.4.*,!=2.5.*,!=2.6.*,!=2.7.*,!=2.8.*,!=2.9.*,<3.0.0dev,>=1.34.1->google-maps-places) (2024.7.4)\n",
      "Downloading google_maps_places-0.1.17-py3-none-any.whl (74 kB)\n",
      "\u001b[2K   \u001b[90m━━━━━━━━━━━━━━━━━━━━━━━━━━━━━━━━━━━━━━━━\u001b[0m \u001b[32m74.7/74.7 kB\u001b[0m \u001b[31m8.0 MB/s\u001b[0m eta \u001b[36m0:00:00\u001b[0m\n",
      "\u001b[?25hDownloading google_geo_type-0.3.9-py3-none-any.whl (11 kB)\n",
      "Installing collected packages: google-geo-type, google-maps-places\n",
      "Successfully installed google-geo-type-0.3.9 google-maps-places-0.1.17\n"
     ]
    }
   ],
   "source": [
    "#! pip install --upgrade google-maps-places"
   ]
  },
  {
   "cell_type": "code",
   "execution_count": 28,
   "id": "134b654b-1c38-420e-b2cb-1b388ddb7132",
   "metadata": {
    "tags": []
   },
   "outputs": [],
   "source": [
    "from google.maps import places_v1\n",
    "import pandas as pd"
   ]
  },
  {
   "cell_type": "code",
   "execution_count": 41,
   "id": "512de03e-2a43-4d87-910b-c11178aa57bb",
   "metadata": {
    "tags": []
   },
   "outputs": [],
   "source": [
    "client = places_v1.PlacesClient()\n",
    "organizations = [\"Circa 1877\", \"Jane Bond\", \"Princess Cafe\", \"AOK Arcade Bar\", \"Full Circle Foods\"]"
   ]
  },
  {
   "cell_type": "code",
   "execution_count": 54,
   "id": "b63c652f-657d-4715-9709-b3e99dea5007",
   "metadata": {
    "tags": []
   },
   "outputs": [
    {
     "data": {
      "text/html": [
       "<div>\n",
       "<style scoped>\n",
       "    .dataframe tbody tr th:only-of-type {\n",
       "        vertical-align: middle;\n",
       "    }\n",
       "\n",
       "    .dataframe tbody tr th {\n",
       "        vertical-align: top;\n",
       "    }\n",
       "\n",
       "    .dataframe thead th {\n",
       "        text-align: right;\n",
       "    }\n",
       "</style>\n",
       "<table border=\"1\" class=\"dataframe\">\n",
       "  <thead>\n",
       "    <tr style=\"text-align: right;\">\n",
       "      <th></th>\n",
       "      <th>organization</th>\n",
       "      <th>address</th>\n",
       "      <th>longitude</th>\n",
       "      <th>latitude</th>\n",
       "      <th>types</th>\n",
       "      <th>formatted_name</th>\n",
       "      <th>primary_type</th>\n",
       "      <th>phone_number</th>\n",
       "    </tr>\n",
       "  </thead>\n",
       "  <tbody>\n",
       "    <tr>\n",
       "      <th>0</th>\n",
       "      <td>Circa 1877</td>\n",
       "      <td>181 King St S, Waterloo, ON N2J 0E7, Canada</td>\n",
       "      <td>-80.520197</td>\n",
       "      <td>43.460381</td>\n",
       "      <td>[point_of_interest, establishment]</td>\n",
       "      <td>text: \"Circa1877\"\\nlanguage_code: \"en\"\\n</td>\n",
       "      <td></td>\n",
       "      <td></td>\n",
       "    </tr>\n",
       "    <tr>\n",
       "      <th>1</th>\n",
       "      <td>Jane Bond</td>\n",
       "      <td>5 Princess St W, Waterloo, ON N2L 2X7, Canada</td>\n",
       "      <td>-80.523333</td>\n",
       "      <td>43.466634</td>\n",
       "      <td>[vegetarian_restaurant, bar, restaurant, food,...</td>\n",
       "      <td>text: \"Jane Bond\"\\nlanguage_code: \"en\"\\n</td>\n",
       "      <td>vegetarian_restaurant</td>\n",
       "      <td>(519) 886-1689</td>\n",
       "    </tr>\n",
       "    <tr>\n",
       "      <th>2</th>\n",
       "      <td>Princess Cafe</td>\n",
       "      <td>46 King St N, Waterloo, ON N2J 2W8, Canada</td>\n",
       "      <td>-80.522579</td>\n",
       "      <td>43.466499</td>\n",
       "      <td>[cafe, coffee_shop, store, restaurant, food, p...</td>\n",
       "      <td>text: \"Princess Cafe\"\\nlanguage_code: \"en\"\\n</td>\n",
       "      <td>cafe</td>\n",
       "      <td>(519) 886-0227</td>\n",
       "    </tr>\n",
       "    <tr>\n",
       "      <th>3</th>\n",
       "      <td>AOK Arcade Bar</td>\n",
       "      <td>165 King St W Unit B03, Kitchener, ON N2G 1A7,...</td>\n",
       "      <td>-80.492287</td>\n",
       "      <td>43.450546</td>\n",
       "      <td>[bar, point_of_interest, establishment]</td>\n",
       "      <td>text: \"AOK Craft Beer + Arcade\"\\nlanguage_code...</td>\n",
       "      <td>bar</td>\n",
       "      <td></td>\n",
       "    </tr>\n",
       "    <tr>\n",
       "      <th>4</th>\n",
       "      <td>Full Circle Foods</td>\n",
       "      <td>16 King St E, Kitchener, ON N2G 2K6, Canada</td>\n",
       "      <td>-80.488748</td>\n",
       "      <td>43.449815</td>\n",
       "      <td>[grocery_store, food, point_of_interest, store...</td>\n",
       "      <td>text: \"Full Circle Foods\"\\nlanguage_code: \"en\"\\n</td>\n",
       "      <td>grocery_store</td>\n",
       "      <td>(519) 744-5331</td>\n",
       "    </tr>\n",
       "  </tbody>\n",
       "</table>\n",
       "</div>"
      ],
      "text/plain": [
       "        organization                                            address  \\\n",
       "0         Circa 1877        181 King St S, Waterloo, ON N2J 0E7, Canada   \n",
       "1          Jane Bond      5 Princess St W, Waterloo, ON N2L 2X7, Canada   \n",
       "2      Princess Cafe         46 King St N, Waterloo, ON N2J 2W8, Canada   \n",
       "3     AOK Arcade Bar  165 King St W Unit B03, Kitchener, ON N2G 1A7,...   \n",
       "4  Full Circle Foods        16 King St E, Kitchener, ON N2G 2K6, Canada   \n",
       "\n",
       "   longitude   latitude                                              types  \\\n",
       "0 -80.520197  43.460381                 [point_of_interest, establishment]   \n",
       "1 -80.523333  43.466634  [vegetarian_restaurant, bar, restaurant, food,...   \n",
       "2 -80.522579  43.466499  [cafe, coffee_shop, store, restaurant, food, p...   \n",
       "3 -80.492287  43.450546            [bar, point_of_interest, establishment]   \n",
       "4 -80.488748  43.449815  [grocery_store, food, point_of_interest, store...   \n",
       "\n",
       "                                      formatted_name           primary_type  \\\n",
       "0           text: \"Circa1877\"\\nlanguage_code: \"en\"\\n                          \n",
       "1           text: \"Jane Bond\"\\nlanguage_code: \"en\"\\n  vegetarian_restaurant   \n",
       "2       text: \"Princess Cafe\"\\nlanguage_code: \"en\"\\n                   cafe   \n",
       "3  text: \"AOK Craft Beer + Arcade\"\\nlanguage_code...                    bar   \n",
       "4   text: \"Full Circle Foods\"\\nlanguage_code: \"en\"\\n          grocery_store   \n",
       "\n",
       "     phone_number  \n",
       "0                  \n",
       "1  (519) 886-1689  \n",
       "2  (519) 886-0227  \n",
       "3                  \n",
       "4  (519) 744-5331  "
      ]
     },
     "execution_count": 54,
     "metadata": {},
     "output_type": "execute_result"
    }
   ],
   "source": [
    "addresses = []\n",
    "latitudes = []\n",
    "longitudes = []\n",
    "types = []\n",
    "display_names = []\n",
    "primary_types = []\n",
    "phone_numbers = []\n",
    "for organization in organizations:\n",
    "    request = places_v1.SearchTextRequest(\n",
    "        text_query = organization + \"Region of Waterloo\",\n",
    "    )\n",
    "    response = client.search_text(request=request, \n",
    "                                  metadata=[(\"x-goog-fieldmask\", \n",
    "                                             \"places.displayName,places.formattedAddress,places.location,places.types,places.displayName,places.primaryType,places.nationalPhoneNumber\")])\n",
    "    addresses.append(response.places[0].formatted_address)\n",
    "    longitudes.append(response.places[0].location.longitude)\n",
    "    latitudes.append(response.places[0].location.latitude)\n",
    "    types.append(response.places[0].types)\n",
    "    display_names.append(response.places[0].display_name)\n",
    "    primary_types.append(response.places[0].primary_type)\n",
    "    phone_numbers.append(response.places[0].national_phone_number)\n",
    "location_data = pd.DataFrame.from_dict({'organization' : organizations,\n",
    "                                        'address' : addresses,\n",
    "                                        'longitude' : longitudes,\n",
    "                                        'latitude' : latitudes,\n",
    "                                        'types' : types,\n",
    "                                        'formatted_name' : display_names,\n",
    "                                        'primary_type' : primary_types,\n",
    "                                        'phone_number' : phone_numbers\n",
    "                                       })\n",
    "location_data"
   ]
  },
  {
   "cell_type": "code",
   "execution_count": 57,
   "id": "158236b5-ca9d-4ecc-ab8f-eef8371c24b8",
   "metadata": {
    "tags": []
   },
   "outputs": [],
   "source": [
    "location_data.to_csv('output_data/craigs_favourite_places.csv', index = False)"
   ]
  }
 ],
 "metadata": {
  "environment": {
   "kernel": "conda-base-py",
   "name": "workbench-notebooks.m123",
   "type": "gcloud",
   "uri": "us-docker.pkg.dev/deeplearning-platform-release/gcr.io/workbench-notebooks:m123"
  },
  "kernelspec": {
   "display_name": "Python 3 (ipykernel)",
   "language": "python",
   "name": "conda-base-py"
  },
  "language_info": {
   "codemirror_mode": {
    "name": "ipython",
    "version": 3
   },
   "file_extension": ".py",
   "mimetype": "text/x-python",
   "name": "python",
   "nbconvert_exporter": "python",
   "pygments_lexer": "ipython3",
   "version": "3.10.14"
  }
 },
 "nbformat": 4,
 "nbformat_minor": 5
}
