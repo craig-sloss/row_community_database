{
 "cells": [
  {
   "cell_type": "markdown",
   "id": "dfc96747-7544-41ce-b598-c269853139ed",
   "metadata": {},
   "source": [
    "# Create DA Lookup Table\n",
    "\n",
    "This notebook generates a lookup table between Census Dissemination Area and municipality."
   ]
  },
  {
   "cell_type": "code",
   "execution_count": 9,
   "id": "e303da3e-6545-45da-91b8-423a3305d2c6",
   "metadata": {
    "tags": []
   },
   "outputs": [],
   "source": [
    "import pandas as pd\n",
    "from google.cloud import bigquery\n",
    "from urllib.request import urlretrieve"
   ]
  },
  {
   "cell_type": "code",
   "execution_count": 3,
   "id": "51d469a5-90b9-456d-ad44-e40b0f424f44",
   "metadata": {
    "tags": []
   },
   "outputs": [
    {
     "name": "stdout",
     "output_type": "stream",
     "text": [
      "Archive:  relationship_file.zip\n",
      "  inflating: 2021_98260004.csv       \n"
     ]
    }
   ],
   "source": [
    "urlretrieve(url = \"https://www12.statcan.gc.ca/census-recensement/2021/geo/sip-pis/dguid-idugd/files-fichiers/2021_98260004.zip\", filename = \"relationship_file.zip\")\n",
    "!unzip relationship_file.zip"
   ]
  },
  {
   "cell_type": "code",
   "execution_count": 10,
   "id": "44d85a1d-9cb8-4647-bfb8-fdeabaf492eb",
   "metadata": {
    "tags": []
   },
   "outputs": [
    {
     "data": {
      "text/html": [
       "<div>\n",
       "<style scoped>\n",
       "    .dataframe tbody tr th:only-of-type {\n",
       "        vertical-align: middle;\n",
       "    }\n",
       "\n",
       "    .dataframe tbody tr th {\n",
       "        vertical-align: top;\n",
       "    }\n",
       "\n",
       "    .dataframe thead th {\n",
       "        text-align: right;\n",
       "    }\n",
       "</style>\n",
       "<table border=\"1\" class=\"dataframe\">\n",
       "  <thead>\n",
       "    <tr style=\"text-align: right;\">\n",
       "      <th></th>\n",
       "      <th>PRDGUID_PRIDUGD</th>\n",
       "      <th>CDDGUID_DRIDUGD</th>\n",
       "      <th>FEDDGUID_CEFIDUGD</th>\n",
       "      <th>CSDDGUID_SDRIDUGD</th>\n",
       "      <th>ERDGUID_REIDUGD</th>\n",
       "      <th>CARDGUID_RARIDUGD</th>\n",
       "      <th>CCSDGUID_SRUIDUGD</th>\n",
       "      <th>DADGUID_ADIDUGD</th>\n",
       "      <th>DBDGUID_IDIDUGD</th>\n",
       "      <th>ADADGUID_ADAIDUGD</th>\n",
       "      <th>DPLDGUID_LDIDUGD</th>\n",
       "      <th>CMAPDGUID_RMRPIDUGD</th>\n",
       "      <th>CMADGUID_RMRIDUGD</th>\n",
       "      <th>CTDGUID_SRIDUGD</th>\n",
       "      <th>POPCTRPDGUID_CTRPOPPIDUGD</th>\n",
       "      <th>POPCTRDGUID_CTRPOPIDUGD</th>\n",
       "    </tr>\n",
       "  </thead>\n",
       "  <tbody>\n",
       "    <tr>\n",
       "      <th>0</th>\n",
       "      <td>2021A000210</td>\n",
       "      <td>2021A00031001</td>\n",
       "      <td>2013A000410007</td>\n",
       "      <td>2021A00051001519</td>\n",
       "      <td>2021S05001010</td>\n",
       "      <td>2021S05011001</td>\n",
       "      <td>2021S05021001519</td>\n",
       "      <td>2021S051210010165</td>\n",
       "      <td>2021S051310010165001</td>\n",
       "      <td>2021S051610010007</td>\n",
       "      <td>NaN</td>\n",
       "      <td>NaN</td>\n",
       "      <td>2021S0503001</td>\n",
       "      <td>2021S05070010170.02</td>\n",
       "      <td>NaN</td>\n",
       "      <td>2021S05100792</td>\n",
       "    </tr>\n",
       "    <tr>\n",
       "      <th>1</th>\n",
       "      <td>2021A000210</td>\n",
       "      <td>2021A00031001</td>\n",
       "      <td>2013A000410007</td>\n",
       "      <td>2021A00051001519</td>\n",
       "      <td>2021S05001010</td>\n",
       "      <td>2021S05011001</td>\n",
       "      <td>2021S05021001519</td>\n",
       "      <td>2021S051210010165</td>\n",
       "      <td>2021S051310010165002</td>\n",
       "      <td>2021S051610010007</td>\n",
       "      <td>NaN</td>\n",
       "      <td>NaN</td>\n",
       "      <td>2021S0503001</td>\n",
       "      <td>2021S05070010170.02</td>\n",
       "      <td>NaN</td>\n",
       "      <td>2021S05100792</td>\n",
       "    </tr>\n",
       "    <tr>\n",
       "      <th>2</th>\n",
       "      <td>2021A000210</td>\n",
       "      <td>2021A00031001</td>\n",
       "      <td>2013A000410007</td>\n",
       "      <td>2021A00051001519</td>\n",
       "      <td>2021S05001010</td>\n",
       "      <td>2021S05011001</td>\n",
       "      <td>2021S05021001519</td>\n",
       "      <td>2021S051210010165</td>\n",
       "      <td>2021S051310010165006</td>\n",
       "      <td>2021S051610010007</td>\n",
       "      <td>NaN</td>\n",
       "      <td>NaN</td>\n",
       "      <td>2021S0503001</td>\n",
       "      <td>2021S05070010170.02</td>\n",
       "      <td>NaN</td>\n",
       "      <td>2021S05100792</td>\n",
       "    </tr>\n",
       "    <tr>\n",
       "      <th>3</th>\n",
       "      <td>2021A000210</td>\n",
       "      <td>2021A00031001</td>\n",
       "      <td>2013A000410007</td>\n",
       "      <td>2021A00051001519</td>\n",
       "      <td>2021S05001010</td>\n",
       "      <td>2021S05011001</td>\n",
       "      <td>2021S05021001519</td>\n",
       "      <td>2021S051210010165</td>\n",
       "      <td>2021S051310010165007</td>\n",
       "      <td>2021S051610010007</td>\n",
       "      <td>NaN</td>\n",
       "      <td>NaN</td>\n",
       "      <td>2021S0503001</td>\n",
       "      <td>2021S05070010170.02</td>\n",
       "      <td>NaN</td>\n",
       "      <td>2021S05100792</td>\n",
       "    </tr>\n",
       "    <tr>\n",
       "      <th>4</th>\n",
       "      <td>2021A000210</td>\n",
       "      <td>2021A00031001</td>\n",
       "      <td>2013A000410007</td>\n",
       "      <td>2021A00051001519</td>\n",
       "      <td>2021S05001010</td>\n",
       "      <td>2021S05011001</td>\n",
       "      <td>2021S05021001519</td>\n",
       "      <td>2021S051210010166</td>\n",
       "      <td>2021S051310010166001</td>\n",
       "      <td>2021S051610010007</td>\n",
       "      <td>NaN</td>\n",
       "      <td>NaN</td>\n",
       "      <td>2021S0503001</td>\n",
       "      <td>2021S05070010170.02</td>\n",
       "      <td>NaN</td>\n",
       "      <td>2021S05100792</td>\n",
       "    </tr>\n",
       "  </tbody>\n",
       "</table>\n",
       "</div>"
      ],
      "text/plain": [
       "  PRDGUID_PRIDUGD CDDGUID_DRIDUGD FEDDGUID_CEFIDUGD CSDDGUID_SDRIDUGD  \\\n",
       "0     2021A000210   2021A00031001    2013A000410007  2021A00051001519   \n",
       "1     2021A000210   2021A00031001    2013A000410007  2021A00051001519   \n",
       "2     2021A000210   2021A00031001    2013A000410007  2021A00051001519   \n",
       "3     2021A000210   2021A00031001    2013A000410007  2021A00051001519   \n",
       "4     2021A000210   2021A00031001    2013A000410007  2021A00051001519   \n",
       "\n",
       "  ERDGUID_REIDUGD CARDGUID_RARIDUGD CCSDGUID_SRUIDUGD    DADGUID_ADIDUGD  \\\n",
       "0   2021S05001010     2021S05011001  2021S05021001519  2021S051210010165   \n",
       "1   2021S05001010     2021S05011001  2021S05021001519  2021S051210010165   \n",
       "2   2021S05001010     2021S05011001  2021S05021001519  2021S051210010165   \n",
       "3   2021S05001010     2021S05011001  2021S05021001519  2021S051210010165   \n",
       "4   2021S05001010     2021S05011001  2021S05021001519  2021S051210010166   \n",
       "\n",
       "        DBDGUID_IDIDUGD  ADADGUID_ADAIDUGD DPLDGUID_LDIDUGD  \\\n",
       "0  2021S051310010165001  2021S051610010007              NaN   \n",
       "1  2021S051310010165002  2021S051610010007              NaN   \n",
       "2  2021S051310010165006  2021S051610010007              NaN   \n",
       "3  2021S051310010165007  2021S051610010007              NaN   \n",
       "4  2021S051310010166001  2021S051610010007              NaN   \n",
       "\n",
       "  CMAPDGUID_RMRPIDUGD CMADGUID_RMRIDUGD      CTDGUID_SRIDUGD  \\\n",
       "0                 NaN      2021S0503001  2021S05070010170.02   \n",
       "1                 NaN      2021S0503001  2021S05070010170.02   \n",
       "2                 NaN      2021S0503001  2021S05070010170.02   \n",
       "3                 NaN      2021S0503001  2021S05070010170.02   \n",
       "4                 NaN      2021S0503001  2021S05070010170.02   \n",
       "\n",
       "  POPCTRPDGUID_CTRPOPPIDUGD POPCTRDGUID_CTRPOPIDUGD  \n",
       "0                       NaN           2021S05100792  \n",
       "1                       NaN           2021S05100792  \n",
       "2                       NaN           2021S05100792  \n",
       "3                       NaN           2021S05100792  \n",
       "4                       NaN           2021S05100792  "
      ]
     },
     "execution_count": 10,
     "metadata": {},
     "output_type": "execute_result"
    }
   ],
   "source": [
    "relationship_data = pd.read_csv(\"./2021_98260004.csv\", dtype = str)\n",
    "relationship_data.head()"
   ]
  },
  {
   "cell_type": "code",
   "execution_count": 13,
   "id": "34cfee71-5389-43e2-97cc-3802fcfb9247",
   "metadata": {
    "tags": []
   },
   "outputs": [
    {
     "data": {
      "text/plain": [
       "LoadJob<project=row-community-database, location=northamerica-northeast2, id=b6ccfe8a-8a11-4a49-9230-debfef8c78d6>"
      ]
     },
     "execution_count": 13,
     "metadata": {},
     "output_type": "execute_result"
    }
   ],
   "source": [
    "client = bigquery.Client()\n",
    "job_config = bigquery.LoadJobConfig(\n",
    "    write_disposition=\"WRITE_TRUNCATE\",\n",
    ")\n",
    "job = client.load_table_from_dataframe(\n",
    "    relationship_data, \n",
    "    'row-community-database.unprocessed.census_relationship', \n",
    "    job_config=job_config\n",
    ")  \n",
    "job.result()"
   ]
  },
  {
   "cell_type": "code",
   "execution_count": null,
   "id": "486f4f6d-3631-4e7d-873c-e509927541e5",
   "metadata": {},
   "outputs": [],
   "source": [
    "!rm relationship_file.zip\n",
    "!rm 2021_98260004.csv"
   ]
  }
 ],
 "metadata": {
  "environment": {
   "kernel": "conda-root-py",
   "name": "workbench-notebooks.m118",
   "type": "gcloud",
   "uri": "us-docker.pkg.dev/deeplearning-platform-release/gcr.io/workbench-notebooks:m118"
  },
  "kernelspec": {
   "display_name": "Python 3 (ipykernel)",
   "language": "python",
   "name": "conda-root-py"
  },
  "language_info": {
   "codemirror_mode": {
    "name": "ipython",
    "version": 3
   },
   "file_extension": ".py",
   "mimetype": "text/x-python",
   "name": "python",
   "nbconvert_exporter": "python",
   "pygments_lexer": "ipython3",
   "version": "3.10.13"
  }
 },
 "nbformat": 4,
 "nbformat_minor": 5
}
